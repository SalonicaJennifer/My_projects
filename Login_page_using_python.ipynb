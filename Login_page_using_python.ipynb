{
  "nbformat": 4,
  "nbformat_minor": 0,
  "metadata": {
    "colab": {
      "provenance": [],
      "authorship_tag": "ABX9TyMBboHqDKnHG7FW4xd6681b",
      "include_colab_link": true
    },
    "kernelspec": {
      "name": "python3",
      "display_name": "Python 3"
    },
    "language_info": {
      "name": "python"
    }
  },
  "cells": [
    {
      "cell_type": "markdown",
      "metadata": {
        "id": "view-in-github",
        "colab_type": "text"
      },
      "source": [
        "<a href=\"https://colab.research.google.com/github/SalonicaJennifer/Assignment-1/blob/main/Login_page_using_python.ipynb\" target=\"_parent\"><img src=\"https://colab.research.google.com/assets/colab-badge.svg\" alt=\"Open In Colab\"/></a>"
      ]
    },
    {
      "cell_type": "code",
      "source": [
        "def user_input():\n",
        "    with open(\"G:\\\\database.txt\", \"a\") as db:\n",
        "     Username = input(\"create username:\")\n",
        "     \n",
        "     if \"@\"  not in Username and \".\" not in Username:\n",
        "       print(\"Invalid user_name. Please include @ and . in User_name. Ex: sherlock@gmail.com or nothing@yahoo.in\")\n",
        "       return\n",
        "     if Username.find(\"@\") == 0:\n",
        "       print(\"Invalid user_name. User_name should not start with @\")\n",
        "       print(\"User_name should not have . immediate next to @ ex: my@.in\")   \n",
        "       return  \n",
        "     if type(Username) == int:\n",
        "       print(\"Invalid user_name. User_name should not start with special characters and numbers, eg:- 123#@gmail.com\")\n",
        "       return\n",
        "\n",
        "       db.seek(0)\n",
        "       data = db_read.readlines()\n",
        "       for line in data:\n",
        "         if Username in line:\n",
        "           print(\"User_name already exists\")\n",
        "           break\n",
        "\n",
        "         else:\n",
        "           db.write(Username + \"\\n\")\n",
        "           print(\"Username added to the database\")\n",
        "           \n",
        "     password = input(\"Enter password: \")\n",
        "\n",
        "     \n",
        "\n",
        "     def validate_password():\n",
        "       if len(password) > 16 or len(password) < 5:\n",
        "         print(\" Password length should be between 5 to 16, having one digit, one uppercase and one lowercase character \")\n",
        "         return\n",
        "\n",
        "       elif not any(character.isdigit() for character in password):\n",
        "         print(\" Password must contain at least one digit\")\n",
        "         return\n",
        "\n",
        "       elif not any(character.islower() for character in password):\n",
        "         print(\" Password must contain at least one lower case letter\")\n",
        "         return\n",
        "\n",
        "       elif not any(character.isupper() for character in password):\n",
        "         print(\" Password must contain at least one uppercase letter\") \n",
        "         return \n",
        "\n",
        "     password1 = input(\"confirm password:\")\n",
        "\n",
        "     if password == password1:\n",
        "       validate_password()\n",
        "\n",
        "       add_user(Username, password)\n",
        "\n",
        "     else:\n",
        "        print(\"Passwords do not match.\")\n",
        "\n",
        "    \n",
        "def add_user(Username, password):\n",
        "  with open(\"G:\\\\database.txt\", \"a\") as db:\n",
        "    db.write(Username+ \",\" + password + \"\\n\")\n",
        "    print(\"User added successfully!\")  \n",
        "    d = []\n",
        "    f = []\n",
        "    with open(\"G:\\\\database.txt\", \"r\") as db:\n",
        "      data = db.readlines()\n",
        "      for i in db:\n",
        "        a, b = i.split(\",\")\n",
        "        b = b.strip()\n",
        "        d.append(a)\n",
        "        f.append(b)\n",
        "      data = dict(zip(d, f))\n",
        "      print(data)\n"
      ],
      "metadata": {
        "id": "hZNoWEiR-f90"
      },
      "execution_count": 22,
      "outputs": []
    },
    {
      "cell_type": "code",
      "source": [
        "user_input()"
      ],
      "metadata": {
        "colab": {
          "base_uri": "https://localhost:8080/"
        },
        "id": "J8yE2xS9hymQ",
        "outputId": "60809d49-b2b4-4a54-ecd8-17fab695225e"
      },
      "execution_count": 23,
      "outputs": [
        {
          "output_type": "stream",
          "name": "stdout",
          "text": [
            "create username:mmm@gmail.com\n",
            "Enter password: zxcv4A\n",
            "confirm password:zxcv4A\n",
            "User added successfully!\n",
            "{}\n"
          ]
        }
      ]
    },
    {
      "cell_type": "code",
      "source": [
        "def login():\n",
        "    Username = input(\"Enter your email ID/username: \")\n",
        "    password = input(\"Enter your password: \")\n",
        "\n",
        "    with open(\"G:\\\\database.txt\", \"r\") as db:\n",
        "      for line in db:\n",
        "\n",
        "        if (Username + \",\" + password + \"\\n\") == line:\n",
        "          print(\"Login successful!\")\n",
        "          return True\n",
        "\n",
        "        elif (Username + \",\") in line:\n",
        "          print(\"Incorrect password\")\n",
        "          choice = input(\"Do you want to reset your password? (yes/no): \")\n",
        "\n",
        "          if choice.lower() == \"yes\":\n",
        "            new_password = input(\"Enter your new password (5 < password length > 16, it should contain at least one lowercase and one uppercase letter): \")\n",
        "            \n",
        "            if validate_password(new_password):\n",
        "\n",
        "              line_parts = line.split(\",\")\n",
        "              line_parts[1] = new_password + \"\\n\"\n",
        "              new_line = \",\".join(line_parts)\n",
        "\n",
        "              with open(\"G:\\\\database.txt\", \"r\") as db:\n",
        "                data = db.read()\n",
        "                db.seek(0)\n",
        "                db.write(data.replace(line, new_line))\n",
        "                db.truncate()\n",
        "\n",
        "                print(\"Password reset successful!\")\n",
        "\n",
        "            else:\n",
        "              print(\"New password must contain minimum one special character, one digit, one uppercase, and one lowercase character.\")\n",
        "\n",
        "          else:\n",
        "            print(\"Please enter the correct password.\")\n",
        "            return\n",
        "\n",
        "      else:\n",
        "        print(\"User not found. Please register.\")\n",
        "        return False"
      ],
      "metadata": {
        "id": "0iZrcCpsgCcB"
      },
      "execution_count": 29,
      "outputs": []
    },
    {
      "cell_type": "code",
      "source": [
        "print(\"If login enter: Login, if Registration enter: Registration\")\n",
        "\n",
        "Input = input()\n",
        "\n",
        "if str(Input) == \"Login\":\n",
        "  login()\n",
        "\n",
        "elif str(Input) == \"Registration\":\n",
        "  user_input()\n",
        "\n",
        "else:\n",
        "  print(\"Enter either Login or Registration only\")"
      ],
      "metadata": {
        "colab": {
          "base_uri": "https://localhost:8080/"
        },
        "id": "ULl_ZXV_gwEl",
        "outputId": "d209ef15-06e0-42b9-e569-15cb83bd152c"
      },
      "execution_count": 31,
      "outputs": [
        {
          "output_type": "stream",
          "name": "stdout",
          "text": [
            "If login enter: Login, if Registration enter: Registration\n",
            "Login\n",
            "Enter your email ID/username: mmm@gmail.com\n",
            "Enter your password: zxcv4A\n",
            "Login successful!\n"
          ]
        }
      ]
    }
  ]
}